{
 "cells": [
  {
   "cell_type": "code",
   "execution_count": 1,
   "metadata": {},
   "outputs": [
    {
     "name": "stdout",
     "output_type": "stream",
     "text": [
      "Welcome to JupyROOT 6.26/00\n"
     ]
    }
   ],
   "source": [
    "import ROOT\n",
    "import uproot\n",
    "import numpy as np\n",
    "import matplotlib.pyplot as plt\n",
    "import pandas as pd"
   ]
  },
  {
   "cell_type": "code",
   "execution_count": 2,
   "metadata": {},
   "outputs": [],
   "source": [
    "file = uproot.open(\"/eos/project/s/siw-ecal/TB2022-03/beamData/buildfiles/3GeV_MIPscan_eudaq/3GeV_MIPscan_eudaq_run_050470_build.root\")\n",
    "ecal = file['ecal']"
   ]
  },
  {
   "cell_type": "code",
   "execution_count": 3,
   "metadata": {},
   "outputs": [
    {
     "data": {
      "text/plain": [
       "['event',\n",
       " 'spill',\n",
       " 'cycle',\n",
       " 'bcid',\n",
       " 'bcid_first_sca_full',\n",
       " 'bcid_merge_end',\n",
       " 'id_run',\n",
       " 'id_dat',\n",
       " 'nhit_slab',\n",
       " 'nhit_chip',\n",
       " 'nhit_chan',\n",
       " 'nhit_len',\n",
       " 'sum_energy',\n",
       " 'sum_energy_lg',\n",
       " 'hit_slab',\n",
       " 'hit_chip',\n",
       " 'hit_chan',\n",
       " 'hit_sca',\n",
       " 'hit_x',\n",
       " 'hit_y',\n",
       " 'hit_z',\n",
       " 'hit_adc_high',\n",
       " 'hit_adc_low',\n",
       " 'hit_energy',\n",
       " 'hit_energy_lg',\n",
       " 'hit_n_scas_filled',\n",
       " 'hit_isHit',\n",
       " 'hit_isMasked',\n",
       " 'hit_isCommissioned']"
      ]
     },
     "execution_count": 3,
     "metadata": {},
     "output_type": "execute_result"
    }
   ],
   "source": [
    "ecal.keys()"
   ]
  },
  {
   "cell_type": "code",
   "execution_count": null,
   "metadata": {},
   "outputs": [],
   "source": []
  }
 ],
 "metadata": {
  "interpreter": {
   "hash": "8a94588eda9d64d9e9a351ab8144e55b1fabf5113b54e67dd26a8c27df0381b3"
  },
  "kernelspec": {
   "display_name": "Python 3.10.4 64-bit",
   "language": "python",
   "name": "python3"
  },
  "language_info": {
   "codemirror_mode": {
    "name": "ipython",
    "version": 3
   },
   "file_extension": ".py",
   "mimetype": "text/x-python",
   "name": "python",
   "nbconvert_exporter": "python",
   "pygments_lexer": "ipython3",
   "version": "3.8.13"
  },
  "orig_nbformat": 4
 },
 "nbformat": 4,
 "nbformat_minor": 2
}
