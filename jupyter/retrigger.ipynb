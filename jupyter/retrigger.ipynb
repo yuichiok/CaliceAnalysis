{
 "cells": [
  {
   "cell_type": "code",
   "execution_count": 1,
   "metadata": {},
   "outputs": [
    {
     "name": "stdout",
     "output_type": "stream",
     "text": [
      "Welcome to JupyROOT 6.26/00\n"
     ]
    }
   ],
   "source": [
    "import ROOT\n",
    "import uproot\n",
    "import numpy as np\n",
    "import matplotlib.pyplot as plt\n",
    "import pandas as pd"
   ]
  },
  {
   "cell_type": "code",
   "execution_count": 2,
   "metadata": {},
   "outputs": [],
   "source": [
    "siw = uproot.open(\"/home/calice/work/SiWECAL-TB-analysis/converter_SLB/convertedfiles/Run_ILC_11052022_datarate_aq100.root:siwecaldecoded\")"
   ]
  },
  {
   "cell_type": "code",
   "execution_count": 3,
   "metadata": {},
   "outputs": [
    {
     "data": {
      "text/plain": [
       "['acqNumber',\n",
       " 'n_slboards',\n",
       " 'slot',\n",
       " 'slboard_id',\n",
       " 'chipid',\n",
       " 'nColumns',\n",
       " 'startACQ',\n",
       " 'rawTSD',\n",
       " 'TSD',\n",
       " 'rawAVDD0',\n",
       " 'rawAVDD1',\n",
       " 'AVDD0',\n",
       " 'AVDD1',\n",
       " 'bcid',\n",
       " 'corrected_bcid',\n",
       " 'badbcid',\n",
       " 'nhits',\n",
       " 'adc_low',\n",
       " 'adc_high',\n",
       " 'autogainbit_low',\n",
       " 'autogainbit_high',\n",
       " 'hitbit_low',\n",
       " 'hitbit_high']"
      ]
     },
     "execution_count": 3,
     "metadata": {},
     "output_type": "execute_result"
    }
   ],
   "source": [
    "siw.keys()"
   ]
  },
  {
   "cell_type": "code",
   "execution_count": 4,
   "metadata": {},
   "outputs": [
    {
     "ename": "KeyInFileError",
     "evalue": "not found: 'event'\nin file /home/calice/work/SiWECAL-TB-analysis/converter_SLB/convertedfiles/Run_ILC_11052022_datarate_aq100.root\nin object /siwecaldecoded;1",
     "output_type": "error",
     "traceback": [
      "\u001b[0;31m---------------------------------------------------------------------------\u001b[0m",
      "\u001b[0;31mKeyError\u001b[0m                                  Traceback (most recent call last)",
      "File \u001b[0;32m~/miniconda3/envs/pyroot/lib/python3.8/site-packages/uproot/language/python.py:378\u001b[0m, in \u001b[0;36mPythonLanguage.free_symbols\u001b[0;34m(self, expression, keys, aliases, file_path, object_path)\u001b[0m\n\u001b[1;32m    <a href='file:///home/calice/miniconda3/envs/pyroot/lib/python3.8/site-packages/uproot/language/python.py?line=376'>377</a>\u001b[0m \u001b[39mtry\u001b[39;00m:\n\u001b[0;32m--> <a href='file:///home/calice/miniconda3/envs/pyroot/lib/python3.8/site-packages/uproot/language/python.py?line=377'>378</a>\u001b[0m     \u001b[39mreturn\u001b[39;00m \u001b[39mlist\u001b[39;49m(\n\u001b[1;32m    <a href='file:///home/calice/miniconda3/envs/pyroot/lib/python3.8/site-packages/uproot/language/python.py?line=378'>379</a>\u001b[0m         _walk_ast_yield_symbols(\n\u001b[1;32m    <a href='file:///home/calice/miniconda3/envs/pyroot/lib/python3.8/site-packages/uproot/language/python.py?line=379'>380</a>\u001b[0m             node, keys, aliases, \u001b[39mself\u001b[39;49m\u001b[39m.\u001b[39;49m_functions, \u001b[39mself\u001b[39;49m\u001b[39m.\u001b[39;49m_getter\n\u001b[1;32m    <a href='file:///home/calice/miniconda3/envs/pyroot/lib/python3.8/site-packages/uproot/language/python.py?line=380'>381</a>\u001b[0m         )\n\u001b[1;32m    <a href='file:///home/calice/miniconda3/envs/pyroot/lib/python3.8/site-packages/uproot/language/python.py?line=381'>382</a>\u001b[0m     )\n\u001b[1;32m    <a href='file:///home/calice/miniconda3/envs/pyroot/lib/python3.8/site-packages/uproot/language/python.py?line=382'>383</a>\u001b[0m \u001b[39mexcept\u001b[39;00m \u001b[39mKeyError\u001b[39;00m \u001b[39mas\u001b[39;00m err:\n",
      "File \u001b[0;32m~/miniconda3/envs/pyroot/lib/python3.8/site-packages/uproot/language/python.py:90\u001b[0m, in \u001b[0;36m_walk_ast_yield_symbols\u001b[0;34m(node, keys, aliases, functions, getter)\u001b[0m\n\u001b[1;32m     <a href='file:///home/calice/miniconda3/envs/pyroot/lib/python3.8/site-packages/uproot/language/python.py?line=88'>89</a>\u001b[0m         x \u001b[39m=\u001b[39m \u001b[39mgetattr\u001b[39m(node, field_name)\n\u001b[0;32m---> <a href='file:///home/calice/miniconda3/envs/pyroot/lib/python3.8/site-packages/uproot/language/python.py?line=89'>90</a>\u001b[0m         \u001b[39myield from\u001b[39;00m _walk_ast_yield_symbols(x, keys, aliases, functions, getter)\n\u001b[1;32m     <a href='file:///home/calice/miniconda3/envs/pyroot/lib/python3.8/site-packages/uproot/language/python.py?line=91'>92</a>\u001b[0m \u001b[39melif\u001b[39;00m \u001b[39misinstance\u001b[39m(node, \u001b[39mlist\u001b[39m):\n",
      "File \u001b[0;32m~/miniconda3/envs/pyroot/lib/python3.8/site-packages/uproot/language/python.py:94\u001b[0m, in \u001b[0;36m_walk_ast_yield_symbols\u001b[0;34m(node, keys, aliases, functions, getter)\u001b[0m\n\u001b[1;32m     <a href='file:///home/calice/miniconda3/envs/pyroot/lib/python3.8/site-packages/uproot/language/python.py?line=92'>93</a>\u001b[0m     \u001b[39mfor\u001b[39;00m x \u001b[39min\u001b[39;00m node:\n\u001b[0;32m---> <a href='file:///home/calice/miniconda3/envs/pyroot/lib/python3.8/site-packages/uproot/language/python.py?line=93'>94</a>\u001b[0m         \u001b[39myield from\u001b[39;00m _walk_ast_yield_symbols(x, keys, aliases, functions, getter)\n\u001b[1;32m     <a href='file:///home/calice/miniconda3/envs/pyroot/lib/python3.8/site-packages/uproot/language/python.py?line=95'>96</a>\u001b[0m \u001b[39melse\u001b[39;00m:\n",
      "File \u001b[0;32m~/miniconda3/envs/pyroot/lib/python3.8/site-packages/uproot/language/python.py:90\u001b[0m, in \u001b[0;36m_walk_ast_yield_symbols\u001b[0;34m(node, keys, aliases, functions, getter)\u001b[0m\n\u001b[1;32m     <a href='file:///home/calice/miniconda3/envs/pyroot/lib/python3.8/site-packages/uproot/language/python.py?line=88'>89</a>\u001b[0m         x \u001b[39m=\u001b[39m \u001b[39mgetattr\u001b[39m(node, field_name)\n\u001b[0;32m---> <a href='file:///home/calice/miniconda3/envs/pyroot/lib/python3.8/site-packages/uproot/language/python.py?line=89'>90</a>\u001b[0m         \u001b[39myield from\u001b[39;00m _walk_ast_yield_symbols(x, keys, aliases, functions, getter)\n\u001b[1;32m     <a href='file:///home/calice/miniconda3/envs/pyroot/lib/python3.8/site-packages/uproot/language/python.py?line=91'>92</a>\u001b[0m \u001b[39melif\u001b[39;00m \u001b[39misinstance\u001b[39m(node, \u001b[39mlist\u001b[39m):\n",
      "File \u001b[0;32m~/miniconda3/envs/pyroot/lib/python3.8/site-packages/uproot/language/python.py:73\u001b[0m, in \u001b[0;36m_walk_ast_yield_symbols\u001b[0;34m(node, keys, aliases, functions, getter)\u001b[0m\n\u001b[1;32m     <a href='file:///home/calice/miniconda3/envs/pyroot/lib/python3.8/site-packages/uproot/language/python.py?line=71'>72</a>\u001b[0m     \u001b[39melse\u001b[39;00m:\n\u001b[0;32m---> <a href='file:///home/calice/miniconda3/envs/pyroot/lib/python3.8/site-packages/uproot/language/python.py?line=72'>73</a>\u001b[0m         \u001b[39mraise\u001b[39;00m \u001b[39mKeyError\u001b[39;00m(node\u001b[39m.\u001b[39mid)\n\u001b[1;32m     <a href='file:///home/calice/miniconda3/envs/pyroot/lib/python3.8/site-packages/uproot/language/python.py?line=74'>75</a>\u001b[0m \u001b[39melif\u001b[39;00m \u001b[39misinstance\u001b[39m(node, ast\u001b[39m.\u001b[39mAttribute):\n",
      "\u001b[0;31mKeyError\u001b[0m: 'event'",
      "\nDuring handling of the above exception, another exception occurred:\n",
      "\u001b[0;31mKeyInFileError\u001b[0m                            Traceback (most recent call last)",
      "\u001b[1;32m/home/calice/work/CaliceAnalysis/jupyter/retrigger.ipynb Cell 4'\u001b[0m in \u001b[0;36m<cell line: 1>\u001b[0;34m()\u001b[0m\n\u001b[0;32m----> <a href='vscode-notebook-cell:/home/calice/work/CaliceAnalysis/jupyter/retrigger.ipynb#ch0000003?line=0'>1</a>\u001b[0m eve \u001b[39m=\u001b[39m siw\u001b[39m.\u001b[39;49marrays([\u001b[39m'\u001b[39;49m\u001b[39mevent\u001b[39;49m\u001b[39m'\u001b[39;49m,\n\u001b[1;32m      <a href='vscode-notebook-cell:/home/calice/work/CaliceAnalysis/jupyter/retrigger.ipynb#ch0000003?line=1'>2</a>\u001b[0m  \u001b[39m'\u001b[39;49m\u001b[39mspill\u001b[39;49m\u001b[39m'\u001b[39;49m,\n\u001b[1;32m      <a href='vscode-notebook-cell:/home/calice/work/CaliceAnalysis/jupyter/retrigger.ipynb#ch0000003?line=2'>3</a>\u001b[0m  \u001b[39m'\u001b[39;49m\u001b[39mcycle\u001b[39;49m\u001b[39m'\u001b[39;49m,\n\u001b[1;32m      <a href='vscode-notebook-cell:/home/calice/work/CaliceAnalysis/jupyter/retrigger.ipynb#ch0000003?line=3'>4</a>\u001b[0m  \u001b[39m'\u001b[39;49m\u001b[39mbcid\u001b[39;49m\u001b[39m'\u001b[39;49m,\n\u001b[1;32m      <a href='vscode-notebook-cell:/home/calice/work/CaliceAnalysis/jupyter/retrigger.ipynb#ch0000003?line=4'>5</a>\u001b[0m  \u001b[39m'\u001b[39;49m\u001b[39mbcid_first_sca_full\u001b[39;49m\u001b[39m'\u001b[39;49m,\n\u001b[1;32m      <a href='vscode-notebook-cell:/home/calice/work/CaliceAnalysis/jupyter/retrigger.ipynb#ch0000003?line=5'>6</a>\u001b[0m  \u001b[39m'\u001b[39;49m\u001b[39mbcid_merge_end\u001b[39;49m\u001b[39m'\u001b[39;49m,\n\u001b[1;32m      <a href='vscode-notebook-cell:/home/calice/work/CaliceAnalysis/jupyter/retrigger.ipynb#ch0000003?line=6'>7</a>\u001b[0m  \u001b[39m'\u001b[39;49m\u001b[39mid_run\u001b[39;49m\u001b[39m'\u001b[39;49m,\n\u001b[1;32m      <a href='vscode-notebook-cell:/home/calice/work/CaliceAnalysis/jupyter/retrigger.ipynb#ch0000003?line=7'>8</a>\u001b[0m  \u001b[39m'\u001b[39;49m\u001b[39mid_dat\u001b[39;49m\u001b[39m'\u001b[39;49m,\n\u001b[1;32m      <a href='vscode-notebook-cell:/home/calice/work/CaliceAnalysis/jupyter/retrigger.ipynb#ch0000003?line=8'>9</a>\u001b[0m  \u001b[39m'\u001b[39;49m\u001b[39mnhit_slab\u001b[39;49m\u001b[39m'\u001b[39;49m,\n\u001b[1;32m     <a href='vscode-notebook-cell:/home/calice/work/CaliceAnalysis/jupyter/retrigger.ipynb#ch0000003?line=9'>10</a>\u001b[0m  \u001b[39m'\u001b[39;49m\u001b[39mnhit_chip\u001b[39;49m\u001b[39m'\u001b[39;49m,\n\u001b[1;32m     <a href='vscode-notebook-cell:/home/calice/work/CaliceAnalysis/jupyter/retrigger.ipynb#ch0000003?line=10'>11</a>\u001b[0m  \u001b[39m'\u001b[39;49m\u001b[39mnhit_chan\u001b[39;49m\u001b[39m'\u001b[39;49m,\n\u001b[1;32m     <a href='vscode-notebook-cell:/home/calice/work/CaliceAnalysis/jupyter/retrigger.ipynb#ch0000003?line=11'>12</a>\u001b[0m  \u001b[39m'\u001b[39;49m\u001b[39mnhit_len\u001b[39;49m\u001b[39m'\u001b[39;49m,\n\u001b[1;32m     <a href='vscode-notebook-cell:/home/calice/work/CaliceAnalysis/jupyter/retrigger.ipynb#ch0000003?line=12'>13</a>\u001b[0m  \u001b[39m'\u001b[39;49m\u001b[39msum_energy\u001b[39;49m\u001b[39m'\u001b[39;49m,\n\u001b[1;32m     <a href='vscode-notebook-cell:/home/calice/work/CaliceAnalysis/jupyter/retrigger.ipynb#ch0000003?line=13'>14</a>\u001b[0m  \u001b[39m'\u001b[39;49m\u001b[39msum_energy_lg\u001b[39;49m\u001b[39m'\u001b[39;49m,\n\u001b[1;32m     <a href='vscode-notebook-cell:/home/calice/work/CaliceAnalysis/jupyter/retrigger.ipynb#ch0000003?line=14'>15</a>\u001b[0m  \u001b[39m'\u001b[39;49m\u001b[39mhit_slab\u001b[39;49m\u001b[39m'\u001b[39;49m,\n\u001b[1;32m     <a href='vscode-notebook-cell:/home/calice/work/CaliceAnalysis/jupyter/retrigger.ipynb#ch0000003?line=15'>16</a>\u001b[0m  \u001b[39m'\u001b[39;49m\u001b[39mhit_chip\u001b[39;49m\u001b[39m'\u001b[39;49m,\n\u001b[1;32m     <a href='vscode-notebook-cell:/home/calice/work/CaliceAnalysis/jupyter/retrigger.ipynb#ch0000003?line=16'>17</a>\u001b[0m  \u001b[39m'\u001b[39;49m\u001b[39mhit_chan\u001b[39;49m\u001b[39m'\u001b[39;49m,\n\u001b[1;32m     <a href='vscode-notebook-cell:/home/calice/work/CaliceAnalysis/jupyter/retrigger.ipynb#ch0000003?line=17'>18</a>\u001b[0m  \u001b[39m'\u001b[39;49m\u001b[39mhit_sca\u001b[39;49m\u001b[39m'\u001b[39;49m,\n\u001b[1;32m     <a href='vscode-notebook-cell:/home/calice/work/CaliceAnalysis/jupyter/retrigger.ipynb#ch0000003?line=18'>19</a>\u001b[0m  \u001b[39m'\u001b[39;49m\u001b[39mhit_x\u001b[39;49m\u001b[39m'\u001b[39;49m,\n\u001b[1;32m     <a href='vscode-notebook-cell:/home/calice/work/CaliceAnalysis/jupyter/retrigger.ipynb#ch0000003?line=19'>20</a>\u001b[0m  \u001b[39m'\u001b[39;49m\u001b[39mhit_y\u001b[39;49m\u001b[39m'\u001b[39;49m,\n\u001b[1;32m     <a href='vscode-notebook-cell:/home/calice/work/CaliceAnalysis/jupyter/retrigger.ipynb#ch0000003?line=20'>21</a>\u001b[0m  \u001b[39m'\u001b[39;49m\u001b[39mhit_z\u001b[39;49m\u001b[39m'\u001b[39;49m,\n\u001b[1;32m     <a href='vscode-notebook-cell:/home/calice/work/CaliceAnalysis/jupyter/retrigger.ipynb#ch0000003?line=21'>22</a>\u001b[0m  \u001b[39m'\u001b[39;49m\u001b[39mhit_adc_high\u001b[39;49m\u001b[39m'\u001b[39;49m,\n\u001b[1;32m     <a href='vscode-notebook-cell:/home/calice/work/CaliceAnalysis/jupyter/retrigger.ipynb#ch0000003?line=22'>23</a>\u001b[0m  \u001b[39m'\u001b[39;49m\u001b[39mhit_adc_low\u001b[39;49m\u001b[39m'\u001b[39;49m,\n\u001b[1;32m     <a href='vscode-notebook-cell:/home/calice/work/CaliceAnalysis/jupyter/retrigger.ipynb#ch0000003?line=23'>24</a>\u001b[0m  \u001b[39m'\u001b[39;49m\u001b[39mhit_energy\u001b[39;49m\u001b[39m'\u001b[39;49m,\n\u001b[1;32m     <a href='vscode-notebook-cell:/home/calice/work/CaliceAnalysis/jupyter/retrigger.ipynb#ch0000003?line=24'>25</a>\u001b[0m  \u001b[39m'\u001b[39;49m\u001b[39mhit_energy_lg\u001b[39;49m\u001b[39m'\u001b[39;49m,\n\u001b[1;32m     <a href='vscode-notebook-cell:/home/calice/work/CaliceAnalysis/jupyter/retrigger.ipynb#ch0000003?line=25'>26</a>\u001b[0m  \u001b[39m'\u001b[39;49m\u001b[39mhit_n_scas_filled\u001b[39;49m\u001b[39m'\u001b[39;49m,\n\u001b[1;32m     <a href='vscode-notebook-cell:/home/calice/work/CaliceAnalysis/jupyter/retrigger.ipynb#ch0000003?line=26'>27</a>\u001b[0m  \u001b[39m'\u001b[39;49m\u001b[39mhit_isHit\u001b[39;49m\u001b[39m'\u001b[39;49m,\n\u001b[1;32m     <a href='vscode-notebook-cell:/home/calice/work/CaliceAnalysis/jupyter/retrigger.ipynb#ch0000003?line=27'>28</a>\u001b[0m  \u001b[39m'\u001b[39;49m\u001b[39mhit_isMasked\u001b[39;49m\u001b[39m'\u001b[39;49m,\n\u001b[1;32m     <a href='vscode-notebook-cell:/home/calice/work/CaliceAnalysis/jupyter/retrigger.ipynb#ch0000003?line=28'>29</a>\u001b[0m  \u001b[39m'\u001b[39;49m\u001b[39mhit_isCommissioned\u001b[39;49m\u001b[39m'\u001b[39;49m],library\u001b[39m=\u001b[39;49m\u001b[39m\"\u001b[39;49m\u001b[39mnp\u001b[39;49m\u001b[39m\"\u001b[39;49m)\n",
      "File \u001b[0;32m~/miniconda3/envs/pyroot/lib/python3.8/site-packages/uproot/behaviors/TBranch.py:1100\u001b[0m, in \u001b[0;36mHasBranches.arrays\u001b[0;34m(self, expressions, cut, filter_name, filter_typename, filter_branch, aliases, language, entry_start, entry_stop, decompression_executor, interpretation_executor, array_cache, library, how)\u001b[0m\n\u001b[1;32m   <a href='file:///home/calice/miniconda3/envs/pyroot/lib/python3.8/site-packages/uproot/behaviors/TBranch.py?line=1096'>1097</a>\u001b[0m         \u001b[39mreturn\u001b[39;00m \u001b[39mNone\u001b[39;00m\n\u001b[1;32m   <a href='file:///home/calice/miniconda3/envs/pyroot/lib/python3.8/site-packages/uproot/behaviors/TBranch.py?line=1098'>1099</a>\u001b[0m aliases \u001b[39m=\u001b[39m _regularize_aliases(\u001b[39mself\u001b[39m, aliases)\n\u001b[0;32m-> <a href='file:///home/calice/miniconda3/envs/pyroot/lib/python3.8/site-packages/uproot/behaviors/TBranch.py?line=1099'>1100</a>\u001b[0m arrays, expression_context, branchid_interpretation \u001b[39m=\u001b[39m _regularize_expressions(\n\u001b[1;32m   <a href='file:///home/calice/miniconda3/envs/pyroot/lib/python3.8/site-packages/uproot/behaviors/TBranch.py?line=1100'>1101</a>\u001b[0m     \u001b[39mself\u001b[39;49m,\n\u001b[1;32m   <a href='file:///home/calice/miniconda3/envs/pyroot/lib/python3.8/site-packages/uproot/behaviors/TBranch.py?line=1101'>1102</a>\u001b[0m     expressions,\n\u001b[1;32m   <a href='file:///home/calice/miniconda3/envs/pyroot/lib/python3.8/site-packages/uproot/behaviors/TBranch.py?line=1102'>1103</a>\u001b[0m     cut,\n\u001b[1;32m   <a href='file:///home/calice/miniconda3/envs/pyroot/lib/python3.8/site-packages/uproot/behaviors/TBranch.py?line=1103'>1104</a>\u001b[0m     filter_name,\n\u001b[1;32m   <a href='file:///home/calice/miniconda3/envs/pyroot/lib/python3.8/site-packages/uproot/behaviors/TBranch.py?line=1104'>1105</a>\u001b[0m     filter_typename,\n\u001b[1;32m   <a href='file:///home/calice/miniconda3/envs/pyroot/lib/python3.8/site-packages/uproot/behaviors/TBranch.py?line=1105'>1106</a>\u001b[0m     filter_branch,\n\u001b[1;32m   <a href='file:///home/calice/miniconda3/envs/pyroot/lib/python3.8/site-packages/uproot/behaviors/TBranch.py?line=1106'>1107</a>\u001b[0m     keys,\n\u001b[1;32m   <a href='file:///home/calice/miniconda3/envs/pyroot/lib/python3.8/site-packages/uproot/behaviors/TBranch.py?line=1107'>1108</a>\u001b[0m     aliases,\n\u001b[1;32m   <a href='file:///home/calice/miniconda3/envs/pyroot/lib/python3.8/site-packages/uproot/behaviors/TBranch.py?line=1108'>1109</a>\u001b[0m     language,\n\u001b[1;32m   <a href='file:///home/calice/miniconda3/envs/pyroot/lib/python3.8/site-packages/uproot/behaviors/TBranch.py?line=1109'>1110</a>\u001b[0m     get_from_cache,\n\u001b[1;32m   <a href='file:///home/calice/miniconda3/envs/pyroot/lib/python3.8/site-packages/uproot/behaviors/TBranch.py?line=1110'>1111</a>\u001b[0m )\n\u001b[1;32m   <a href='file:///home/calice/miniconda3/envs/pyroot/lib/python3.8/site-packages/uproot/behaviors/TBranch.py?line=1112'>1113</a>\u001b[0m ranges_or_baskets \u001b[39m=\u001b[39m []\n\u001b[1;32m   <a href='file:///home/calice/miniconda3/envs/pyroot/lib/python3.8/site-packages/uproot/behaviors/TBranch.py?line=1113'>1114</a>\u001b[0m checked \u001b[39m=\u001b[39m \u001b[39mset\u001b[39m()\n",
      "File \u001b[0;32m~/miniconda3/envs/pyroot/lib/python3.8/site-packages/uproot/behaviors/TBranch.py:3308\u001b[0m, in \u001b[0;36m_regularize_expressions\u001b[0;34m(hasbranches, expressions, cut, filter_name, filter_typename, filter_branch, keys, aliases, language, get_from_cache)\u001b[0m\n\u001b[1;32m   <a href='file:///home/calice/miniconda3/envs/pyroot/lib/python3.8/site-packages/uproot/behaviors/TBranch.py?line=3305'>3306</a>\u001b[0m \u001b[39mfor\u001b[39;00m expression, interp \u001b[39min\u001b[39;00m items:\n\u001b[1;32m   <a href='file:///home/calice/miniconda3/envs/pyroot/lib/python3.8/site-packages/uproot/behaviors/TBranch.py?line=3306'>3307</a>\u001b[0m     \u001b[39mif\u001b[39;00m interp \u001b[39mis\u001b[39;00m \u001b[39mNone\u001b[39;00m:\n\u001b[0;32m-> <a href='file:///home/calice/miniconda3/envs/pyroot/lib/python3.8/site-packages/uproot/behaviors/TBranch.py?line=3307'>3308</a>\u001b[0m         _regularize_expression(\n\u001b[1;32m   <a href='file:///home/calice/miniconda3/envs/pyroot/lib/python3.8/site-packages/uproot/behaviors/TBranch.py?line=3308'>3309</a>\u001b[0m             hasbranches,\n\u001b[1;32m   <a href='file:///home/calice/miniconda3/envs/pyroot/lib/python3.8/site-packages/uproot/behaviors/TBranch.py?line=3309'>3310</a>\u001b[0m             expression,\n\u001b[1;32m   <a href='file:///home/calice/miniconda3/envs/pyroot/lib/python3.8/site-packages/uproot/behaviors/TBranch.py?line=3310'>3311</a>\u001b[0m             keys,\n\u001b[1;32m   <a href='file:///home/calice/miniconda3/envs/pyroot/lib/python3.8/site-packages/uproot/behaviors/TBranch.py?line=3311'>3312</a>\u001b[0m             aliases,\n\u001b[1;32m   <a href='file:///home/calice/miniconda3/envs/pyroot/lib/python3.8/site-packages/uproot/behaviors/TBranch.py?line=3312'>3313</a>\u001b[0m             language,\n\u001b[1;32m   <a href='file:///home/calice/miniconda3/envs/pyroot/lib/python3.8/site-packages/uproot/behaviors/TBranch.py?line=3313'>3314</a>\u001b[0m             get_from_cache,\n\u001b[1;32m   <a href='file:///home/calice/miniconda3/envs/pyroot/lib/python3.8/site-packages/uproot/behaviors/TBranch.py?line=3314'>3315</a>\u001b[0m             arrays,\n\u001b[1;32m   <a href='file:///home/calice/miniconda3/envs/pyroot/lib/python3.8/site-packages/uproot/behaviors/TBranch.py?line=3315'>3316</a>\u001b[0m             expression_context,\n\u001b[1;32m   <a href='file:///home/calice/miniconda3/envs/pyroot/lib/python3.8/site-packages/uproot/behaviors/TBranch.py?line=3316'>3317</a>\u001b[0m             branchid_interpretation,\n\u001b[1;32m   <a href='file:///home/calice/miniconda3/envs/pyroot/lib/python3.8/site-packages/uproot/behaviors/TBranch.py?line=3317'>3318</a>\u001b[0m             (),\n\u001b[1;32m   <a href='file:///home/calice/miniconda3/envs/pyroot/lib/python3.8/site-packages/uproot/behaviors/TBranch.py?line=3318'>3319</a>\u001b[0m             \u001b[39mFalse\u001b[39;49;00m,\n\u001b[1;32m   <a href='file:///home/calice/miniconda3/envs/pyroot/lib/python3.8/site-packages/uproot/behaviors/TBranch.py?line=3319'>3320</a>\u001b[0m             \u001b[39mNone\u001b[39;49;00m,\n\u001b[1;32m   <a href='file:///home/calice/miniconda3/envs/pyroot/lib/python3.8/site-packages/uproot/behaviors/TBranch.py?line=3320'>3321</a>\u001b[0m         )\n\u001b[1;32m   <a href='file:///home/calice/miniconda3/envs/pyroot/lib/python3.8/site-packages/uproot/behaviors/TBranch.py?line=3321'>3322</a>\u001b[0m     \u001b[39melse\u001b[39;00m:\n\u001b[1;32m   <a href='file:///home/calice/miniconda3/envs/pyroot/lib/python3.8/site-packages/uproot/behaviors/TBranch.py?line=3322'>3323</a>\u001b[0m         branch \u001b[39m=\u001b[39m hasbranches[expression]\n",
      "File \u001b[0;32m~/miniconda3/envs/pyroot/lib/python3.8/site-packages/uproot/behaviors/TBranch.py:3176\u001b[0m, in \u001b[0;36m_regularize_expression\u001b[0;34m(hasbranches, expression, keys, aliases, language, get_from_cache, arrays, expression_context, branchid_interpretation, symbol_path, is_cut, rename)\u001b[0m\n\u001b[1;32m   <a href='file:///home/calice/miniconda3/envs/pyroot/lib/python3.8/site-packages/uproot/behaviors/TBranch.py?line=3173'>3174</a>\u001b[0m is_jagged \u001b[39m=\u001b[39m \u001b[39mFalse\u001b[39;00m\n\u001b[1;32m   <a href='file:///home/calice/miniconda3/envs/pyroot/lib/python3.8/site-packages/uproot/behaviors/TBranch.py?line=3174'>3175</a>\u001b[0m expression_branches \u001b[39m=\u001b[39m []\n\u001b[0;32m-> <a href='file:///home/calice/miniconda3/envs/pyroot/lib/python3.8/site-packages/uproot/behaviors/TBranch.py?line=3175'>3176</a>\u001b[0m \u001b[39mfor\u001b[39;00m symbol \u001b[39min\u001b[39;00m language\u001b[39m.\u001b[39;49mfree_symbols(\n\u001b[1;32m   <a href='file:///home/calice/miniconda3/envs/pyroot/lib/python3.8/site-packages/uproot/behaviors/TBranch.py?line=3176'>3177</a>\u001b[0m     to_compute,\n\u001b[1;32m   <a href='file:///home/calice/miniconda3/envs/pyroot/lib/python3.8/site-packages/uproot/behaviors/TBranch.py?line=3177'>3178</a>\u001b[0m     keys,\n\u001b[1;32m   <a href='file:///home/calice/miniconda3/envs/pyroot/lib/python3.8/site-packages/uproot/behaviors/TBranch.py?line=3178'>3179</a>\u001b[0m     aliases,\n\u001b[1;32m   <a href='file:///home/calice/miniconda3/envs/pyroot/lib/python3.8/site-packages/uproot/behaviors/TBranch.py?line=3179'>3180</a>\u001b[0m     hasbranches\u001b[39m.\u001b[39;49mfile\u001b[39m.\u001b[39;49mfile_path,\n\u001b[1;32m   <a href='file:///home/calice/miniconda3/envs/pyroot/lib/python3.8/site-packages/uproot/behaviors/TBranch.py?line=3180'>3181</a>\u001b[0m     hasbranches\u001b[39m.\u001b[39;49mobject_path,\n\u001b[1;32m   <a href='file:///home/calice/miniconda3/envs/pyroot/lib/python3.8/site-packages/uproot/behaviors/TBranch.py?line=3181'>3182</a>\u001b[0m ):\n\u001b[1;32m   <a href='file:///home/calice/miniconda3/envs/pyroot/lib/python3.8/site-packages/uproot/behaviors/TBranch.py?line=3182'>3183</a>\u001b[0m     \u001b[39mif\u001b[39;00m symbol \u001b[39min\u001b[39;00m symbol_path:\n\u001b[1;32m   <a href='file:///home/calice/miniconda3/envs/pyroot/lib/python3.8/site-packages/uproot/behaviors/TBranch.py?line=3183'>3184</a>\u001b[0m         \u001b[39mraise\u001b[39;00m \u001b[39mValueError\u001b[39;00m(\n\u001b[1;32m   <a href='file:///home/calice/miniconda3/envs/pyroot/lib/python3.8/site-packages/uproot/behaviors/TBranch.py?line=3184'>3185</a>\u001b[0m             \u001b[39m\"\"\"symbol {} is recursively defined with aliases:\u001b[39;00m\n\u001b[1;32m   <a href='file:///home/calice/miniconda3/envs/pyroot/lib/python3.8/site-packages/uproot/behaviors/TBranch.py?line=3185'>3186</a>\u001b[0m \n\u001b[0;32m   (...)\u001b[0m\n\u001b[1;32m   <a href='file:///home/calice/miniconda3/envs/pyroot/lib/python3.8/site-packages/uproot/behaviors/TBranch.py?line=3193'>3194</a>\u001b[0m             )\n\u001b[1;32m   <a href='file:///home/calice/miniconda3/envs/pyroot/lib/python3.8/site-packages/uproot/behaviors/TBranch.py?line=3194'>3195</a>\u001b[0m         )\n",
      "File \u001b[0;32m~/miniconda3/envs/pyroot/lib/python3.8/site-packages/uproot/language/python.py:384\u001b[0m, in \u001b[0;36mPythonLanguage.free_symbols\u001b[0;34m(self, expression, keys, aliases, file_path, object_path)\u001b[0m\n\u001b[1;32m    <a href='file:///home/calice/miniconda3/envs/pyroot/lib/python3.8/site-packages/uproot/language/python.py?line=377'>378</a>\u001b[0m     \u001b[39mreturn\u001b[39;00m \u001b[39mlist\u001b[39m(\n\u001b[1;32m    <a href='file:///home/calice/miniconda3/envs/pyroot/lib/python3.8/site-packages/uproot/language/python.py?line=378'>379</a>\u001b[0m         _walk_ast_yield_symbols(\n\u001b[1;32m    <a href='file:///home/calice/miniconda3/envs/pyroot/lib/python3.8/site-packages/uproot/language/python.py?line=379'>380</a>\u001b[0m             node, keys, aliases, \u001b[39mself\u001b[39m\u001b[39m.\u001b[39m_functions, \u001b[39mself\u001b[39m\u001b[39m.\u001b[39m_getter\n\u001b[1;32m    <a href='file:///home/calice/miniconda3/envs/pyroot/lib/python3.8/site-packages/uproot/language/python.py?line=380'>381</a>\u001b[0m         )\n\u001b[1;32m    <a href='file:///home/calice/miniconda3/envs/pyroot/lib/python3.8/site-packages/uproot/language/python.py?line=381'>382</a>\u001b[0m     )\n\u001b[1;32m    <a href='file:///home/calice/miniconda3/envs/pyroot/lib/python3.8/site-packages/uproot/language/python.py?line=382'>383</a>\u001b[0m \u001b[39mexcept\u001b[39;00m \u001b[39mKeyError\u001b[39;00m \u001b[39mas\u001b[39;00m err:\n\u001b[0;32m--> <a href='file:///home/calice/miniconda3/envs/pyroot/lib/python3.8/site-packages/uproot/language/python.py?line=383'>384</a>\u001b[0m     \u001b[39mraise\u001b[39;00m uproot\u001b[39m.\u001b[39mKeyInFileError(\n\u001b[1;32m    <a href='file:///home/calice/miniconda3/envs/pyroot/lib/python3.8/site-packages/uproot/language/python.py?line=384'>385</a>\u001b[0m         err\u001b[39m.\u001b[39margs[\u001b[39m0\u001b[39m], file_path\u001b[39m=\u001b[39mfile_path, object_path\u001b[39m=\u001b[39mobject_path\n\u001b[1;32m    <a href='file:///home/calice/miniconda3/envs/pyroot/lib/python3.8/site-packages/uproot/language/python.py?line=385'>386</a>\u001b[0m     )\n",
      "\u001b[0;31mKeyInFileError\u001b[0m: not found: 'event'\nin file /home/calice/work/SiWECAL-TB-analysis/converter_SLB/convertedfiles/Run_ILC_11052022_datarate_aq100.root\nin object /siwecaldecoded;1"
     ]
    }
   ],
   "source": [
    "eve = siw.arrays(['acqNumber',\n",
    " 'n_slboards',\n",
    " 'slot',\n",
    " 'slboard_id',\n",
    " 'chipid',\n",
    " 'nColumns',\n",
    " 'startACQ',\n",
    " 'rawTSD',\n",
    " 'TSD',\n",
    " 'rawAVDD0',\n",
    " 'rawAVDD1',\n",
    " 'AVDD0',\n",
    " 'AVDD1',\n",
    " 'bcid',\n",
    " 'corrected_bcid',\n",
    " 'badbcid',\n",
    " 'nhits',\n",
    " 'adc_low',\n",
    " 'adc_high',\n",
    " 'autogainbit_low',\n",
    " 'autogainbit_high',\n",
    " 'hitbit_low',\n",
    " 'hitbit_high'],library=\"np\")"
   ]
  },
  {
   "cell_type": "code",
   "execution_count": null,
   "metadata": {},
   "outputs": [
    {
     "data": {
      "text/plain": [
       "103099"
      ]
     },
     "execution_count": 9,
     "metadata": {},
     "output_type": "execute_result"
    }
   ],
   "source": [
    "len(eve['acqNumber'])"
   ]
  },
  {
   "cell_type": "code",
   "execution_count": null,
   "metadata": {},
   "outputs": [],
   "source": []
  }
 ],
 "metadata": {
  "interpreter": {
   "hash": "aa3a74893c56cc0b473048c96a98c0ed980dfc338f4ce1bee8cf3a327fd4b5a1"
  },
  "kernelspec": {
   "display_name": "Python 3.8.13 ('pyroot')",
   "language": "python",
   "name": "python3"
  },
  "language_info": {
   "codemirror_mode": {
    "name": "ipython",
    "version": 3
   },
   "file_extension": ".py",
   "mimetype": "text/x-python",
   "name": "python",
   "nbconvert_exporter": "python",
   "pygments_lexer": "ipython3",
   "version": "3.8.13"
  },
  "orig_nbformat": 4
 },
 "nbformat": 4,
 "nbformat_minor": 2
}
