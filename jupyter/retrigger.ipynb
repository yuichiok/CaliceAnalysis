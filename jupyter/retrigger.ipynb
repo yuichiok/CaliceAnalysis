{
 "cells": [
  {
   "cell_type": "code",
   "execution_count": null,
   "metadata": {},
   "outputs": [],
   "source": [
    "import ROOT\n",
    "import uproot\n",
    "import numpy as np\n",
    "import matplotlib.pyplot as plt\n",
    "import pandas as pd"
   ]
  },
  {
   "cell_type": "code",
   "execution_count": null,
   "metadata": {},
   "outputs": [],
   "source": [
    "siw = uproot.open(\"/home/calice/work/SiWECAL-TB-analysis/converter_SLB/convertedfiles/Run_ILC_11052022_datarate_aq100.root:siwecaldecoded\")"
   ]
  },
  {
   "cell_type": "code",
   "execution_count": null,
   "metadata": {},
   "outputs": [],
   "source": [
    "siw.keys()"
   ]
  },
  {
   "cell_type": "code",
   "execution_count": null,
   "metadata": {},
   "outputs": [],
   "source": [
    "eve = siw.arrays(['acqNumber',\n",
    " 'n_slboards',\n",
    " 'slot',\n",
    " 'slboard_id',\n",
    " 'chipid',\n",
    " 'nColumns',\n",
    " 'startACQ',\n",
    " 'rawTSD',\n",
    " 'TSD',\n",
    " 'rawAVDD0',\n",
    " 'rawAVDD1',\n",
    " 'AVDD0',\n",
    " 'AVDD1',\n",
    " 'bcid',\n",
    " 'corrected_bcid',\n",
    " 'badbcid',\n",
    " 'nhits',\n",
    " 'adc_low',\n",
    " 'adc_high',\n",
    " 'autogainbit_low',\n",
    " 'autogainbit_high',\n",
    " 'hitbit_low',\n",
    " 'hitbit_high'],library=\"np\")"
   ]
  },
  {
   "cell_type": "code",
   "execution_count": null,
   "metadata": {},
   "outputs": [],
   "source": [
    "len(eve['acqNumber'])"
   ]
  },
  {
   "cell_type": "code",
   "execution_count": null,
   "metadata": {},
   "outputs": [],
   "source": []
  }
 ],
 "metadata": {
  "interpreter": {
   "hash": "aa3a74893c56cc0b473048c96a98c0ed980dfc338f4ce1bee8cf3a327fd4b5a1"
  },
  "kernelspec": {
   "display_name": "Python 3.8.13 ('pyroot')",
   "language": "python",
   "name": "python3"
  },
  "language_info": {
   "codemirror_mode": {
    "name": "ipython",
    "version": 3
   },
   "file_extension": ".py",
   "mimetype": "text/x-python",
   "name": "python",
   "nbconvert_exporter": "python",
   "pygments_lexer": "ipython3",
   "version": "3.8.13"
  },
  "orig_nbformat": 4
 },
 "nbformat": 4,
 "nbformat_minor": 2
}
